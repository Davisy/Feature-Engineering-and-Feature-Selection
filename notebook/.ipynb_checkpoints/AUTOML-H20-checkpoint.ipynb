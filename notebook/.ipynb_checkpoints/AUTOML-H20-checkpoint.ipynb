{
 "cells": [
  {
   "cell_type": "markdown",
   "metadata": {},
   "source": [
    "## Hackathon: Financial inclusion in Africa"
   ]
  },
  {
   "cell_type": "markdown",
   "metadata": {},
   "source": [
    "Remember to read the hackathon details in the zindi platform, [Zindi Africa](https://zindi.africa)"
   ]
  },
  {
   "cell_type": "code",
   "execution_count": 1,
   "metadata": {},
   "outputs": [],
   "source": [
    "# import important modules \n",
    "\n",
    "import pandas as pd\n",
    "import numpy as np\n",
    "import matplotlib.pyplot as plt\n",
    "import seaborn as sns  \n",
    "import warnings\n",
    "warnings.filterwarnings('ignore')\n",
    "%matplotlib inline \n"
   ]
  },
  {
   "cell_type": "code",
   "execution_count": 83,
   "metadata": {},
   "outputs": [],
   "source": [
    "#load data \n",
    "train_data = pd.read_csv('../data/Train_v2.csv')\n",
    "test_data = pd.read_csv('../data/Test_v2.csv')\n"
   ]
  },
  {
   "cell_type": "code",
   "execution_count": 90,
   "metadata": {},
   "outputs": [],
   "source": [
    "#feature engineeing\n",
    "from sklearn.preprocessing import LabelEncoder\n",
    "\n",
    "def featureEngineer(data):\n",
    "    \n",
    "    le = LabelEncoder()\n",
    "    data['year_'] = data['year']\n",
    "    # Convert the following numerical labels from integer to float\n",
    "    float_array = data[['household_size', 'age_of_respondent', 'year_']].values.astype(float)\n",
    "\n",
    "    # convert categorical features to numerical features\n",
    "    # categorical features to be converted by One Hot Encoding\n",
    "    data['country_'] = data['country']\n",
    "    \n",
    "    categorical = ['relationship_with_head', 'marital_status', 'education_level', 'job_type', 'country_']\n",
    "    # One Hot Encoding conversion\n",
    "    \n",
    "    data = pd.get_dummies(data, prefix_sep='_', columns = categorical)\n",
    "\n",
    "    # Labelncoder conversion\n",
    "    data['location_type'] = le.fit_transform(data['location_type'])\n",
    "    data['cellphone_access'] = le.fit_transform(data['cellphone_access'])\n",
    "    data['gender_of_respondent'] = le.fit_transform(data['gender_of_respondent'])\n",
    "\n",
    "\n",
    "    #remove un important feature\n",
    "    featured_data = data.drop(['year', 'uniqueid', 'country'], axis=1)\n",
    "\n",
    "\n",
    "    return featured_data\n",
    "\n",
    "\n",
    "train_featured = featureEngineer(train_data)\n",
    "test_featured = featureEngineer(test_data)"
   ]
  },
  {
   "cell_type": "code",
   "execution_count": 91,
   "metadata": {},
   "outputs": [],
   "source": [
    "train_featured.to_csv('../data/featured_train.csv')\n",
    "test_featured.to_csv('../data/featured_test.csv')"
   ]
  },
  {
   "cell_type": "code",
   "execution_count": 2,
   "metadata": {},
   "outputs": [
    {
     "name": "stdout",
     "output_type": "stream",
     "text": [
      "Checking whether there is an H2O instance running at http://localhost:54321 ..... not found.\n",
      "Attempting to start a local H2O server...\n",
      "; Java HotSpot(TM) Client VM (build 25.221-b11, mixed mode)\n",
      "  Starting server from C:\\ProgramData\\Anaconda3\\lib\\site-packages\\h2o\\backend\\bin\\h2o.jar\n",
      "  Ice root: C:\\Users\\DAVIS\\AppData\\Local\\Temp\\tmpui5akh_j\n",
      "  JVM stdout: C:\\Users\\DAVIS\\AppData\\Local\\Temp\\tmpui5akh_j\\h2o_DAVIS_started_from_python.out\n",
      "  JVM stderr: C:\\Users\\DAVIS\\AppData\\Local\\Temp\\tmpui5akh_j\\h2o_DAVIS_started_from_python.err\n",
      "  Server is running at http://127.0.0.1:54321\n",
      "Connecting to H2O server at http://127.0.0.1:54321 ... successful.\n"
     ]
    },
    {
     "data": {
      "text/html": [
       "<div style=\"overflow:auto\"><table style=\"width:50%\"><tr><td>H2O cluster uptime:</td>\n",
       "<td>09 secs</td></tr>\n",
       "<tr><td>H2O cluster timezone:</td>\n",
       "<td>Africa/Nairobi</td></tr>\n",
       "<tr><td>H2O data parsing timezone:</td>\n",
       "<td>UTC</td></tr>\n",
       "<tr><td>H2O cluster version:</td>\n",
       "<td>3.26.0.8</td></tr>\n",
       "<tr><td>H2O cluster version age:</td>\n",
       "<td>14 days, 18 hours and 56 minutes </td></tr>\n",
       "<tr><td>H2O cluster name:</td>\n",
       "<td>H2O_from_python_DAVIS_s48jb1</td></tr>\n",
       "<tr><td>H2O cluster total nodes:</td>\n",
       "<td>1</td></tr>\n",
       "<tr><td>H2O cluster free memory:</td>\n",
       "<td>247.5 Mb</td></tr>\n",
       "<tr><td>H2O cluster total cores:</td>\n",
       "<td>0</td></tr>\n",
       "<tr><td>H2O cluster allowed cores:</td>\n",
       "<td>0</td></tr>\n",
       "<tr><td>H2O cluster status:</td>\n",
       "<td>accepting new members, healthy</td></tr>\n",
       "<tr><td>H2O connection url:</td>\n",
       "<td>http://127.0.0.1:54321</td></tr>\n",
       "<tr><td>H2O connection proxy:</td>\n",
       "<td>{'http': None, 'https': None}</td></tr>\n",
       "<tr><td>H2O internal security:</td>\n",
       "<td>False</td></tr>\n",
       "<tr><td>H2O API Extensions:</td>\n",
       "<td>Amazon S3, Algos, AutoML, Core V3, TargetEncoder, Core V4</td></tr>\n",
       "<tr><td>Python version:</td>\n",
       "<td>3.7.3 final</td></tr></table></div>"
      ],
      "text/plain": [
       "--------------------------  ---------------------------------------------------------\n",
       "H2O cluster uptime:         09 secs\n",
       "H2O cluster timezone:       Africa/Nairobi\n",
       "H2O data parsing timezone:  UTC\n",
       "H2O cluster version:        3.26.0.8\n",
       "H2O cluster version age:    14 days, 18 hours and 56 minutes\n",
       "H2O cluster name:           H2O_from_python_DAVIS_s48jb1\n",
       "H2O cluster total nodes:    1\n",
       "H2O cluster free memory:    247.5 Mb\n",
       "H2O cluster total cores:    0\n",
       "H2O cluster allowed cores:  0\n",
       "H2O cluster status:         accepting new members, healthy\n",
       "H2O connection url:         http://127.0.0.1:54321\n",
       "H2O connection proxy:       {'http': None, 'https': None}\n",
       "H2O internal security:      False\n",
       "H2O API Extensions:         Amazon S3, Algos, AutoML, Core V3, TargetEncoder, Core V4\n",
       "Python version:             3.7.3 final\n",
       "--------------------------  ---------------------------------------------------------"
      ]
     },
     "metadata": {},
     "output_type": "display_data"
    }
   ],
   "source": [
    "## IMPORT H2O\n",
    "\n",
    "import h2o\n",
    "from h2o.automl import H2OAutoML\n",
    "h2o.init()"
   ]
  },
  {
   "cell_type": "markdown",
   "metadata": {},
   "source": [
    "## Load Dataset"
   ]
  },
  {
   "cell_type": "code",
   "execution_count": 108,
   "metadata": {},
   "outputs": [
    {
     "name": "stdout",
     "output_type": "stream",
     "text": [
      "Parse progress: |█████████████████████████████████████████████████████████| 100%\n",
      "Parse progress: |█████████████████████████████████████████████████████████| 100%\n"
     ]
    }
   ],
   "source": [
    "# Import data\n",
    "\n",
    "train_data = h2o.import_file('../data/featured_train.csv')\n",
    "test_data = h2o.import_file('../data/featured_test.csv')\n",
    "\n"
   ]
  },
  {
   "cell_type": "code",
   "execution_count": 102,
   "metadata": {},
   "outputs": [
    {
     "name": "stdout",
     "output_type": "stream",
     "text": [
      "train data shape : (23524, 39)\n",
      "test data shape : (10086, 38)\n"
     ]
    }
   ],
   "source": [
    "# print shape \n",
    "print('train data shape :', train_data.shape)\n",
    "print('test data shape :', test_data.shape)"
   ]
  },
  {
   "cell_type": "markdown",
   "metadata": {},
   "source": [
    "The above output show the number of rows and columns for train and test dataset "
   ]
  },
  {
   "cell_type": "code",
   "execution_count": 104,
   "metadata": {},
   "outputs": [
    {
     "data": {
      "text/html": [
       "<table>\n",
       "<thead>\n",
       "<tr><th style=\"text-align: right;\">  C1</th><th style=\"text-align: right;\">  location_type</th><th style=\"text-align: right;\">  cellphone_access</th><th style=\"text-align: right;\">  household_size</th><th style=\"text-align: right;\">  age_of_respondent</th><th style=\"text-align: right;\">  gender_of_respondent</th><th style=\"text-align: right;\">  year_</th><th style=\"text-align: right;\">  relationship_with_head_Child</th><th style=\"text-align: right;\">  relationship_with_head_Head of Household</th><th style=\"text-align: right;\">  relationship_with_head_Other non-relatives</th><th style=\"text-align: right;\">  relationship_with_head_Other relative</th><th style=\"text-align: right;\">  relationship_with_head_Parent</th><th style=\"text-align: right;\">  relationship_with_head_Spouse</th><th style=\"text-align: right;\">  marital_status_Divorced/Seperated</th><th style=\"text-align: right;\">  marital_status_Dont know</th><th style=\"text-align: right;\">  marital_status_Married/Living together</th><th style=\"text-align: right;\">  marital_status_Single/Never Married</th><th style=\"text-align: right;\">  marital_status_Widowed</th><th style=\"text-align: right;\">  education_level_No formal education</th><th style=\"text-align: right;\">  education_level_Other/Dont know/RTA</th><th style=\"text-align: right;\">  education_level_Primary education</th><th style=\"text-align: right;\">  education_level_Secondary education</th><th style=\"text-align: right;\">  education_level_Tertiary education</th><th style=\"text-align: right;\">  education_level_Vocational/Specialised training</th><th style=\"text-align: right;\">  job_type_Dont Know/Refuse to answer</th><th style=\"text-align: right;\">  job_type_Farming and Fishing</th><th style=\"text-align: right;\">  job_type_Formally employed Government</th><th style=\"text-align: right;\">  job_type_Formally employed Private</th><th style=\"text-align: right;\">  job_type_Government Dependent</th><th style=\"text-align: right;\">  job_type_Informally employed</th><th style=\"text-align: right;\">  job_type_No Income</th><th style=\"text-align: right;\">  job_type_Other Income</th><th style=\"text-align: right;\">  job_type_Remittance Dependent</th><th style=\"text-align: right;\">  job_type_Self employed</th><th style=\"text-align: right;\">  country__Kenya</th><th style=\"text-align: right;\">  country__Rwanda</th><th style=\"text-align: right;\">  country__Tanzania</th><th style=\"text-align: right;\">  country__Uganda</th></tr>\n",
       "</thead>\n",
       "<tbody>\n",
       "<tr><td style=\"text-align: right;\">   0</td><td style=\"text-align: right;\">              1</td><td style=\"text-align: right;\">                 1</td><td style=\"text-align: right;\">               3</td><td style=\"text-align: right;\">                 30</td><td style=\"text-align: right;\">                     1</td><td style=\"text-align: right;\">   2018</td><td style=\"text-align: right;\">                             0</td><td style=\"text-align: right;\">                                         1</td><td style=\"text-align: right;\">                                           0</td><td style=\"text-align: right;\">                                      0</td><td style=\"text-align: right;\">                              0</td><td style=\"text-align: right;\">                              0</td><td style=\"text-align: right;\">                                  0</td><td style=\"text-align: right;\">                         0</td><td style=\"text-align: right;\">                                       1</td><td style=\"text-align: right;\">                                    0</td><td style=\"text-align: right;\">                       0</td><td style=\"text-align: right;\">                                    0</td><td style=\"text-align: right;\">                                    0</td><td style=\"text-align: right;\">                                  0</td><td style=\"text-align: right;\">                                    1</td><td style=\"text-align: right;\">                                   0</td><td style=\"text-align: right;\">                                                0</td><td style=\"text-align: right;\">                                    0</td><td style=\"text-align: right;\">                             0</td><td style=\"text-align: right;\">                                      1</td><td style=\"text-align: right;\">                                   0</td><td style=\"text-align: right;\">                              0</td><td style=\"text-align: right;\">                             0</td><td style=\"text-align: right;\">                   0</td><td style=\"text-align: right;\">                      0</td><td style=\"text-align: right;\">                              0</td><td style=\"text-align: right;\">                       0</td><td style=\"text-align: right;\">               1</td><td style=\"text-align: right;\">                0</td><td style=\"text-align: right;\">                  0</td><td style=\"text-align: right;\">                0</td></tr>\n",
       "<tr><td style=\"text-align: right;\">   1</td><td style=\"text-align: right;\">              1</td><td style=\"text-align: right;\">                 1</td><td style=\"text-align: right;\">               7</td><td style=\"text-align: right;\">                 51</td><td style=\"text-align: right;\">                     1</td><td style=\"text-align: right;\">   2018</td><td style=\"text-align: right;\">                             0</td><td style=\"text-align: right;\">                                         1</td><td style=\"text-align: right;\">                                           0</td><td style=\"text-align: right;\">                                      0</td><td style=\"text-align: right;\">                              0</td><td style=\"text-align: right;\">                              0</td><td style=\"text-align: right;\">                                  0</td><td style=\"text-align: right;\">                         0</td><td style=\"text-align: right;\">                                       1</td><td style=\"text-align: right;\">                                    0</td><td style=\"text-align: right;\">                       0</td><td style=\"text-align: right;\">                                    0</td><td style=\"text-align: right;\">                                    0</td><td style=\"text-align: right;\">                                  0</td><td style=\"text-align: right;\">                                    0</td><td style=\"text-align: right;\">                                   0</td><td style=\"text-align: right;\">                                                1</td><td style=\"text-align: right;\">                                    0</td><td style=\"text-align: right;\">                             0</td><td style=\"text-align: right;\">                                      0</td><td style=\"text-align: right;\">                                   1</td><td style=\"text-align: right;\">                              0</td><td style=\"text-align: right;\">                             0</td><td style=\"text-align: right;\">                   0</td><td style=\"text-align: right;\">                      0</td><td style=\"text-align: right;\">                              0</td><td style=\"text-align: right;\">                       0</td><td style=\"text-align: right;\">               1</td><td style=\"text-align: right;\">                0</td><td style=\"text-align: right;\">                  0</td><td style=\"text-align: right;\">                0</td></tr>\n",
       "<tr><td style=\"text-align: right;\">   2</td><td style=\"text-align: right;\">              0</td><td style=\"text-align: right;\">                 0</td><td style=\"text-align: right;\">               3</td><td style=\"text-align: right;\">                 77</td><td style=\"text-align: right;\">                     0</td><td style=\"text-align: right;\">   2018</td><td style=\"text-align: right;\">                             0</td><td style=\"text-align: right;\">                                         0</td><td style=\"text-align: right;\">                                           0</td><td style=\"text-align: right;\">                                      0</td><td style=\"text-align: right;\">                              1</td><td style=\"text-align: right;\">                              0</td><td style=\"text-align: right;\">                                  0</td><td style=\"text-align: right;\">                         0</td><td style=\"text-align: right;\">                                       1</td><td style=\"text-align: right;\">                                    0</td><td style=\"text-align: right;\">                       0</td><td style=\"text-align: right;\">                                    1</td><td style=\"text-align: right;\">                                    0</td><td style=\"text-align: right;\">                                  0</td><td style=\"text-align: right;\">                                    0</td><td style=\"text-align: right;\">                                   0</td><td style=\"text-align: right;\">                                                0</td><td style=\"text-align: right;\">                                    0</td><td style=\"text-align: right;\">                             0</td><td style=\"text-align: right;\">                                      0</td><td style=\"text-align: right;\">                                   0</td><td style=\"text-align: right;\">                              0</td><td style=\"text-align: right;\">                             0</td><td style=\"text-align: right;\">                   0</td><td style=\"text-align: right;\">                      0</td><td style=\"text-align: right;\">                              1</td><td style=\"text-align: right;\">                       0</td><td style=\"text-align: right;\">               1</td><td style=\"text-align: right;\">                0</td><td style=\"text-align: right;\">                  0</td><td style=\"text-align: right;\">                0</td></tr>\n",
       "<tr><td style=\"text-align: right;\">   3</td><td style=\"text-align: right;\">              0</td><td style=\"text-align: right;\">                 0</td><td style=\"text-align: right;\">               6</td><td style=\"text-align: right;\">                 39</td><td style=\"text-align: right;\">                     0</td><td style=\"text-align: right;\">   2018</td><td style=\"text-align: right;\">                             0</td><td style=\"text-align: right;\">                                         1</td><td style=\"text-align: right;\">                                           0</td><td style=\"text-align: right;\">                                      0</td><td style=\"text-align: right;\">                              0</td><td style=\"text-align: right;\">                              0</td><td style=\"text-align: right;\">                                  0</td><td style=\"text-align: right;\">                         0</td><td style=\"text-align: right;\">                                       1</td><td style=\"text-align: right;\">                                    0</td><td style=\"text-align: right;\">                       0</td><td style=\"text-align: right;\">                                    0</td><td style=\"text-align: right;\">                                    0</td><td style=\"text-align: right;\">                                  1</td><td style=\"text-align: right;\">                                    0</td><td style=\"text-align: right;\">                                   0</td><td style=\"text-align: right;\">                                                0</td><td style=\"text-align: right;\">                                    0</td><td style=\"text-align: right;\">                             0</td><td style=\"text-align: right;\">                                      0</td><td style=\"text-align: right;\">                                   0</td><td style=\"text-align: right;\">                              0</td><td style=\"text-align: right;\">                             0</td><td style=\"text-align: right;\">                   0</td><td style=\"text-align: right;\">                      0</td><td style=\"text-align: right;\">                              1</td><td style=\"text-align: right;\">                       0</td><td style=\"text-align: right;\">               1</td><td style=\"text-align: right;\">                0</td><td style=\"text-align: right;\">                  0</td><td style=\"text-align: right;\">                0</td></tr>\n",
       "<tr><td style=\"text-align: right;\">   4</td><td style=\"text-align: right;\">              1</td><td style=\"text-align: right;\">                 0</td><td style=\"text-align: right;\">               3</td><td style=\"text-align: right;\">                 16</td><td style=\"text-align: right;\">                     1</td><td style=\"text-align: right;\">   2018</td><td style=\"text-align: right;\">                             1</td><td style=\"text-align: right;\">                                         0</td><td style=\"text-align: right;\">                                           0</td><td style=\"text-align: right;\">                                      0</td><td style=\"text-align: right;\">                              0</td><td style=\"text-align: right;\">                              0</td><td style=\"text-align: right;\">                                  0</td><td style=\"text-align: right;\">                         0</td><td style=\"text-align: right;\">                                       0</td><td style=\"text-align: right;\">                                    1</td><td style=\"text-align: right;\">                       0</td><td style=\"text-align: right;\">                                    0</td><td style=\"text-align: right;\">                                    0</td><td style=\"text-align: right;\">                                  0</td><td style=\"text-align: right;\">                                    1</td><td style=\"text-align: right;\">                                   0</td><td style=\"text-align: right;\">                                                0</td><td style=\"text-align: right;\">                                    0</td><td style=\"text-align: right;\">                             0</td><td style=\"text-align: right;\">                                      0</td><td style=\"text-align: right;\">                                   0</td><td style=\"text-align: right;\">                              0</td><td style=\"text-align: right;\">                             0</td><td style=\"text-align: right;\">                   0</td><td style=\"text-align: right;\">                      0</td><td style=\"text-align: right;\">                              1</td><td style=\"text-align: right;\">                       0</td><td style=\"text-align: right;\">               1</td><td style=\"text-align: right;\">                0</td><td style=\"text-align: right;\">                  0</td><td style=\"text-align: right;\">                0</td></tr>\n",
       "<tr><td style=\"text-align: right;\">   5</td><td style=\"text-align: right;\">              0</td><td style=\"text-align: right;\">                 1</td><td style=\"text-align: right;\">               4</td><td style=\"text-align: right;\">                 25</td><td style=\"text-align: right;\">                     0</td><td style=\"text-align: right;\">   2018</td><td style=\"text-align: right;\">                             0</td><td style=\"text-align: right;\">                                         0</td><td style=\"text-align: right;\">                                           0</td><td style=\"text-align: right;\">                                      0</td><td style=\"text-align: right;\">                              0</td><td style=\"text-align: right;\">                              1</td><td style=\"text-align: right;\">                                  0</td><td style=\"text-align: right;\">                         0</td><td style=\"text-align: right;\">                                       1</td><td style=\"text-align: right;\">                                    0</td><td style=\"text-align: right;\">                       0</td><td style=\"text-align: right;\">                                    0</td><td style=\"text-align: right;\">                                    0</td><td style=\"text-align: right;\">                                  1</td><td style=\"text-align: right;\">                                    0</td><td style=\"text-align: right;\">                                   0</td><td style=\"text-align: right;\">                                                0</td><td style=\"text-align: right;\">                                    0</td><td style=\"text-align: right;\">                             0</td><td style=\"text-align: right;\">                                      0</td><td style=\"text-align: right;\">                                   0</td><td style=\"text-align: right;\">                              0</td><td style=\"text-align: right;\">                             0</td><td style=\"text-align: right;\">                   0</td><td style=\"text-align: right;\">                      0</td><td style=\"text-align: right;\">                              0</td><td style=\"text-align: right;\">                       1</td><td style=\"text-align: right;\">               1</td><td style=\"text-align: right;\">                0</td><td style=\"text-align: right;\">                  0</td><td style=\"text-align: right;\">                0</td></tr>\n",
       "<tr><td style=\"text-align: right;\">   6</td><td style=\"text-align: right;\">              0</td><td style=\"text-align: right;\">                 1</td><td style=\"text-align: right;\">               4</td><td style=\"text-align: right;\">                 32</td><td style=\"text-align: right;\">                     0</td><td style=\"text-align: right;\">   2018</td><td style=\"text-align: right;\">                             0</td><td style=\"text-align: right;\">                                         1</td><td style=\"text-align: right;\">                                           0</td><td style=\"text-align: right;\">                                      0</td><td style=\"text-align: right;\">                              0</td><td style=\"text-align: right;\">                              0</td><td style=\"text-align: right;\">                                  1</td><td style=\"text-align: right;\">                         0</td><td style=\"text-align: right;\">                                       0</td><td style=\"text-align: right;\">                                    0</td><td style=\"text-align: right;\">                       0</td><td style=\"text-align: right;\">                                    0</td><td style=\"text-align: right;\">                                    0</td><td style=\"text-align: right;\">                                  1</td><td style=\"text-align: right;\">                                    0</td><td style=\"text-align: right;\">                                   0</td><td style=\"text-align: right;\">                                                0</td><td style=\"text-align: right;\">                                    0</td><td style=\"text-align: right;\">                             0</td><td style=\"text-align: right;\">                                      0</td><td style=\"text-align: right;\">                                   0</td><td style=\"text-align: right;\">                              0</td><td style=\"text-align: right;\">                             1</td><td style=\"text-align: right;\">                   0</td><td style=\"text-align: right;\">                      0</td><td style=\"text-align: right;\">                              0</td><td style=\"text-align: right;\">                       0</td><td style=\"text-align: right;\">               1</td><td style=\"text-align: right;\">                0</td><td style=\"text-align: right;\">                  0</td><td style=\"text-align: right;\">                0</td></tr>\n",
       "<tr><td style=\"text-align: right;\">   7</td><td style=\"text-align: right;\">              1</td><td style=\"text-align: right;\">                 1</td><td style=\"text-align: right;\">               3</td><td style=\"text-align: right;\">                 24</td><td style=\"text-align: right;\">                     0</td><td style=\"text-align: right;\">   2018</td><td style=\"text-align: right;\">                             0</td><td style=\"text-align: right;\">                                         0</td><td style=\"text-align: right;\">                                           0</td><td style=\"text-align: right;\">                                      0</td><td style=\"text-align: right;\">                              0</td><td style=\"text-align: right;\">                              1</td><td style=\"text-align: right;\">                                  0</td><td style=\"text-align: right;\">                         0</td><td style=\"text-align: right;\">                                       1</td><td style=\"text-align: right;\">                                    0</td><td style=\"text-align: right;\">                       0</td><td style=\"text-align: right;\">                                    0</td><td style=\"text-align: right;\">                                    0</td><td style=\"text-align: right;\">                                  0</td><td style=\"text-align: right;\">                                    0</td><td style=\"text-align: right;\">                                   0</td><td style=\"text-align: right;\">                                                1</td><td style=\"text-align: right;\">                                    0</td><td style=\"text-align: right;\">                             0</td><td style=\"text-align: right;\">                                      0</td><td style=\"text-align: right;\">                                   0</td><td style=\"text-align: right;\">                              0</td><td style=\"text-align: right;\">                             0</td><td style=\"text-align: right;\">                   0</td><td style=\"text-align: right;\">                      0</td><td style=\"text-align: right;\">                              0</td><td style=\"text-align: right;\">                       1</td><td style=\"text-align: right;\">               1</td><td style=\"text-align: right;\">                0</td><td style=\"text-align: right;\">                  0</td><td style=\"text-align: right;\">                0</td></tr>\n",
       "<tr><td style=\"text-align: right;\">   8</td><td style=\"text-align: right;\">              0</td><td style=\"text-align: right;\">                 1</td><td style=\"text-align: right;\">               4</td><td style=\"text-align: right;\">                 22</td><td style=\"text-align: right;\">                     0</td><td style=\"text-align: right;\">   2018</td><td style=\"text-align: right;\">                             1</td><td style=\"text-align: right;\">                                         0</td><td style=\"text-align: right;\">                                           0</td><td style=\"text-align: right;\">                                      0</td><td style=\"text-align: right;\">                              0</td><td style=\"text-align: right;\">                              0</td><td style=\"text-align: right;\">                                  0</td><td style=\"text-align: right;\">                         0</td><td style=\"text-align: right;\">                                       0</td><td style=\"text-align: right;\">                                    1</td><td style=\"text-align: right;\">                       0</td><td style=\"text-align: right;\">                                    0</td><td style=\"text-align: right;\">                                    0</td><td style=\"text-align: right;\">                                  1</td><td style=\"text-align: right;\">                                    0</td><td style=\"text-align: right;\">                                   0</td><td style=\"text-align: right;\">                                                0</td><td style=\"text-align: right;\">                                    0</td><td style=\"text-align: right;\">                             0</td><td style=\"text-align: right;\">                                      0</td><td style=\"text-align: right;\">                                   0</td><td style=\"text-align: right;\">                              0</td><td style=\"text-align: right;\">                             1</td><td style=\"text-align: right;\">                   0</td><td style=\"text-align: right;\">                      0</td><td style=\"text-align: right;\">                              0</td><td style=\"text-align: right;\">                       0</td><td style=\"text-align: right;\">               1</td><td style=\"text-align: right;\">                0</td><td style=\"text-align: right;\">                  0</td><td style=\"text-align: right;\">                0</td></tr>\n",
       "<tr><td style=\"text-align: right;\">   9</td><td style=\"text-align: right;\">              1</td><td style=\"text-align: right;\">                 1</td><td style=\"text-align: right;\">               1</td><td style=\"text-align: right;\">                 42</td><td style=\"text-align: right;\">                     1</td><td style=\"text-align: right;\">   2018</td><td style=\"text-align: right;\">                             0</td><td style=\"text-align: right;\">                                         1</td><td style=\"text-align: right;\">                                           0</td><td style=\"text-align: right;\">                                      0</td><td style=\"text-align: right;\">                              0</td><td style=\"text-align: right;\">                              0</td><td style=\"text-align: right;\">                                  1</td><td style=\"text-align: right;\">                         0</td><td style=\"text-align: right;\">                                       0</td><td style=\"text-align: right;\">                                    0</td><td style=\"text-align: right;\">                       0</td><td style=\"text-align: right;\">                                    0</td><td style=\"text-align: right;\">                                    0</td><td style=\"text-align: right;\">                                  0</td><td style=\"text-align: right;\">                                    1</td><td style=\"text-align: right;\">                                   0</td><td style=\"text-align: right;\">                                                0</td><td style=\"text-align: right;\">                                    0</td><td style=\"text-align: right;\">                             1</td><td style=\"text-align: right;\">                                      0</td><td style=\"text-align: right;\">                                   0</td><td style=\"text-align: right;\">                              0</td><td style=\"text-align: right;\">                             0</td><td style=\"text-align: right;\">                   0</td><td style=\"text-align: right;\">                      0</td><td style=\"text-align: right;\">                              0</td><td style=\"text-align: right;\">                       0</td><td style=\"text-align: right;\">               1</td><td style=\"text-align: right;\">                0</td><td style=\"text-align: right;\">                  0</td><td style=\"text-align: right;\">                0</td></tr>\n",
       "</tbody>\n",
       "</table>"
      ]
     },
     "metadata": {},
     "output_type": "display_data"
    },
    {
     "data": {
      "text/plain": []
     },
     "execution_count": 104,
     "metadata": {},
     "output_type": "execute_result"
    }
   ],
   "source": [
    "# Inspect train Data\n",
    "test_data.head()"
   ]
  },
  {
   "cell_type": "markdown",
   "metadata": {},
   "source": [
    "**Note:** Open the VariableDefinition file to understand the meaning of each variable in this dataset "
   ]
  },
  {
   "cell_type": "code",
   "execution_count": 105,
   "metadata": {
    "scrolled": true
   },
   "outputs": [
    {
     "name": "stdout",
     "output_type": "stream",
     "text": [
      "Rows:23524\n",
      "Cols:39\n",
      "\n",
      "\n"
     ]
    },
    {
     "data": {
      "text/html": [
       "<table>\n",
       "<thead>\n",
       "<tr><th>       </th><th>C1                </th><th>bank_account  </th><th>location_type     </th><th>cellphone_access   </th><th>household_size    </th><th>age_of_respondent  </th><th>gender_of_respondent  </th><th>year_             </th><th>relationship_with_head_Child  </th><th>relationship_with_head_Head of Household  </th><th>relationship_with_head_Other non-relatives  </th><th>relationship_with_head_Other relative  </th><th>relationship_with_head_Parent  </th><th>relationship_with_head_Spouse  </th><th>marital_status_Divorced/Seperated  </th><th>marital_status_Dont know  </th><th>marital_status_Married/Living together  </th><th>marital_status_Single/Never Married  </th><th>marital_status_Widowed  </th><th>education_level_No formal education  </th><th>education_level_Other/Dont know/RTA  </th><th>education_level_Primary education  </th><th>education_level_Secondary education  </th><th>education_level_Tertiary education  </th><th>education_level_Vocational/Specialised training  </th><th>job_type_Dont Know/Refuse to answer  </th><th>job_type_Farming and Fishing  </th><th>job_type_Formally employed Government  </th><th>job_type_Formally employed Private  </th><th>job_type_Government Dependent  </th><th>job_type_Informally employed  </th><th>job_type_No Income  </th><th>job_type_Other Income  </th><th>job_type_Remittance Dependent  </th><th>job_type_Self employed  </th><th>country__Kenya    </th><th>country__Rwanda    </th><th>country__Tanzania  </th><th>country__Uganda    </th></tr>\n",
       "</thead>\n",
       "<tbody>\n",
       "<tr><td>type   </td><td>int               </td><td>enum          </td><td>int               </td><td>int                </td><td>int               </td><td>int                </td><td>int                   </td><td>int               </td><td>int                           </td><td>int                                       </td><td>int                                         </td><td>int                                    </td><td>int                            </td><td>int                            </td><td>int                                </td><td>int                       </td><td>int                                     </td><td>int                                  </td><td>int                     </td><td>int                                  </td><td>int                                  </td><td>int                                </td><td>int                                  </td><td>int                                 </td><td>int                                              </td><td>int                                  </td><td>int                           </td><td>int                                    </td><td>int                                 </td><td>int                            </td><td>int                           </td><td>int                 </td><td>int                    </td><td>int                            </td><td>int                     </td><td>int               </td><td>int                </td><td>int                </td><td>int                </td></tr>\n",
       "<tr><td>mins   </td><td>0.0               </td><td>              </td><td>0.0               </td><td>0.0                </td><td>1.0               </td><td>16.0               </td><td>0.0                   </td><td>2016.0            </td><td>0.0                           </td><td>0.0                                       </td><td>0.0                                         </td><td>0.0                                    </td><td>0.0                            </td><td>0.0                            </td><td>0.0                                </td><td>0.0                       </td><td>0.0                                     </td><td>0.0                                  </td><td>0.0                     </td><td>0.0                                  </td><td>0.0                                  </td><td>0.0                                </td><td>0.0                                  </td><td>0.0                                 </td><td>0.0                                              </td><td>0.0                                  </td><td>0.0                           </td><td>0.0                                    </td><td>0.0                                 </td><td>0.0                            </td><td>0.0                           </td><td>0.0                 </td><td>0.0                    </td><td>0.0                            </td><td>0.0                     </td><td>0.0               </td><td>0.0                </td><td>0.0                </td><td>0.0                </td></tr>\n",
       "<tr><td>mean   </td><td>11761.5           </td><td>              </td><td>0.3902822649209318</td><td>0.741965652099983  </td><td>3.7974834211868735</td><td>38.80522020064615  </td><td>0.41009182111885734   </td><td>2016.9759394660773</td><td>0.09475429348750213           </td><td>0.5454429518789321                        </td><td>0.008076857677265771                        </td><td>0.0283965312021765                     </td><td>0.046165618092161194           </td><td>0.2771637476619623             </td><td>0.08825029756844074                </td><td>0.0003400782179901377     </td><td>0.4569375956469988                      </td><td>0.3393555517769087                   </td><td>0.11511647678966162     </td><td>0.191931644278184                    </td><td>0.0014878422037068527                </td><td>0.5437425607889814                 </td><td>0.17951878932154394                  </td><td>0.04918381227682367                 </td><td>0.03413535113076008                              </td><td>0.005356231933344669                 </td><td>0.23129569801054242           </td><td>0.016451283795272914                   </td><td>0.044847814997449414                </td><td>0.010499914980445502           </td><td>0.2379272232613501            </td><td>0.026653630334977044</td><td>0.0459105594286686     </td><td>0.10742220710763475            </td><td>0.27363543615031455     </td><td>0.2579493283455195</td><td>0.37132290426798165</td><td>0.281414725386839  </td><td>0.08931304199965992</td></tr>\n",
       "<tr><td>maxs   </td><td>23523.0           </td><td>              </td><td>1.0               </td><td>1.0                </td><td>21.0              </td><td>100.0              </td><td>1.0                   </td><td>2018.0            </td><td>1.0                           </td><td>1.0                                       </td><td>1.0                                         </td><td>1.0                                    </td><td>1.0                            </td><td>1.0                            </td><td>1.0                                </td><td>1.0                       </td><td>1.0                                     </td><td>1.0                                  </td><td>1.0                     </td><td>1.0                                  </td><td>1.0                                  </td><td>1.0                                </td><td>1.0                                  </td><td>1.0                                 </td><td>1.0                                              </td><td>1.0                                  </td><td>1.0                           </td><td>1.0                                    </td><td>1.0                                 </td><td>1.0                            </td><td>1.0                           </td><td>1.0                 </td><td>1.0                    </td><td>1.0                            </td><td>1.0                     </td><td>1.0               </td><td>1.0                </td><td>1.0                </td><td>1.0                </td></tr>\n",
       "<tr><td>sigma  </td><td>6790.9382022417685</td><td>              </td><td>0.487823876774763 </td><td>0.43756229517427714</td><td>2.2276127768934693</td><td>16.520568929736136 </td><td>0.4918605530277957    </td><td>0.8473705735442916</td><td>0.29288148426170113           </td><td>0.49794123973776117                       </td><td>0.08950956727676579                         </td><td>0.1661064150465758                     </td><td>0.20984810165564569            </td><td>0.4476075530919939             </td><td>0.28366459617369827                </td><td>0.018438465693843803      </td><td>0.4981527661222058                      </td><td>0.47350067800384293                  </td><td>0.3191692403566877      </td><td>0.39382798464529656                  </td><td>0.03854467130105459                  </td><td>0.4980935001880311                 </td><td>0.38379428761979667                  </td><td>0.21625622056022245                 </td><td>0.18158064474596092                              </td><td>0.0729915693426481                   </td><td>0.4216699616607301            </td><td>0.12720584468240176                    </td><td>0.20697417600850593                 </td><td>0.10193188140638136            </td><td>0.4258233997821051            </td><td>0.1610723974245401  </td><td>0.20929558544602145    </td><td>0.30965586164685394            </td><td>0.4458335269994033      </td><td>0.4375152677982542</td><td>0.48316884112282776</td><td>0.44969887084047305</td><td>0.28520112247345075</td></tr>\n",
       "<tr><td>zeros  </td><td>1                 </td><td>              </td><td>14343             </td><td>6070               </td><td>0                 </td><td>0                  </td><td>13877                 </td><td>0                 </td><td>21295                         </td><td>10693                                     </td><td>23334                                       </td><td>22856                                  </td><td>22438                          </td><td>17004                          </td><td>21448                              </td><td>23516                     </td><td>12775                                   </td><td>15541                                </td><td>20816                   </td><td>19009                                </td><td>23489                                </td><td>10733                              </td><td>19301                                </td><td>22367                               </td><td>22721                                            </td><td>23398                                </td><td>18083                         </td><td>23137                                  </td><td>22469                               </td><td>23277                          </td><td>17927                         </td><td>22897               </td><td>22444                  </td><td>20997                          </td><td>17087                   </td><td>17456             </td><td>14789              </td><td>16904              </td><td>21423              </td></tr>\n",
       "<tr><td>missing</td><td>0                 </td><td>0             </td><td>0                 </td><td>0                  </td><td>0                 </td><td>0                  </td><td>0                     </td><td>0                 </td><td>0                             </td><td>0                                         </td><td>0                                           </td><td>0                                      </td><td>0                              </td><td>0                              </td><td>0                                  </td><td>0                         </td><td>0                                       </td><td>0                                    </td><td>0                       </td><td>0                                    </td><td>0                                    </td><td>0                                  </td><td>0                                    </td><td>0                                   </td><td>0                                                </td><td>0                                    </td><td>0                             </td><td>0                                      </td><td>0                                   </td><td>0                              </td><td>0                             </td><td>0                   </td><td>0                      </td><td>0                              </td><td>0                       </td><td>0                 </td><td>0                  </td><td>0                  </td><td>0                  </td></tr>\n",
       "<tr><td>0      </td><td>0.0               </td><td>Yes           </td><td>0.0               </td><td>1.0                </td><td>3.0               </td><td>24.0               </td><td>0.0                   </td><td>2018.0            </td><td>0.0                           </td><td>0.0                                       </td><td>0.0                                         </td><td>0.0                                    </td><td>0.0                            </td><td>1.0                            </td><td>0.0                                </td><td>0.0                       </td><td>1.0                                     </td><td>0.0                                  </td><td>0.0                     </td><td>0.0                                  </td><td>0.0                                  </td><td>0.0                                </td><td>1.0                                  </td><td>0.0                                 </td><td>0.0                                              </td><td>0.0                                  </td><td>0.0                           </td><td>0.0                                    </td><td>0.0                                 </td><td>0.0                            </td><td>0.0                           </td><td>0.0                 </td><td>0.0                    </td><td>0.0                            </td><td>1.0                     </td><td>1.0               </td><td>0.0                </td><td>0.0                </td><td>0.0                </td></tr>\n",
       "<tr><td>1      </td><td>1.0               </td><td>No            </td><td>0.0               </td><td>0.0                </td><td>5.0               </td><td>70.0               </td><td>0.0                   </td><td>2018.0            </td><td>0.0                           </td><td>1.0                                       </td><td>0.0                                         </td><td>0.0                                    </td><td>0.0                            </td><td>0.0                            </td><td>0.0                                </td><td>0.0                       </td><td>0.0                                     </td><td>0.0                                  </td><td>1.0                     </td><td>1.0                                  </td><td>0.0                                  </td><td>0.0                                </td><td>0.0                                  </td><td>0.0                                 </td><td>0.0                                              </td><td>0.0                                  </td><td>0.0                           </td><td>0.0                                    </td><td>0.0                                 </td><td>1.0                            </td><td>0.0                           </td><td>0.0                 </td><td>0.0                    </td><td>0.0                            </td><td>0.0                     </td><td>1.0               </td><td>0.0                </td><td>0.0                </td><td>0.0                </td></tr>\n",
       "<tr><td>2      </td><td>2.0               </td><td>Yes           </td><td>1.0               </td><td>1.0                </td><td>5.0               </td><td>26.0               </td><td>1.0                   </td><td>2018.0            </td><td>0.0                           </td><td>0.0                                       </td><td>0.0                                         </td><td>1.0                                    </td><td>0.0                            </td><td>0.0                            </td><td>0.0                                </td><td>0.0                       </td><td>0.0                                     </td><td>1.0                                  </td><td>0.0                     </td><td>0.0                                  </td><td>0.0                                  </td><td>0.0                                </td><td>0.0                                  </td><td>0.0                                 </td><td>1.0                                              </td><td>0.0                                  </td><td>0.0                           </td><td>0.0                                    </td><td>0.0                                 </td><td>0.0                            </td><td>0.0                           </td><td>0.0                 </td><td>0.0                    </td><td>0.0                            </td><td>1.0                     </td><td>1.0               </td><td>0.0                </td><td>0.0                </td><td>0.0                </td></tr>\n",
       "<tr><td>3      </td><td>3.0               </td><td>No            </td><td>0.0               </td><td>1.0                </td><td>5.0               </td><td>34.0               </td><td>0.0                   </td><td>2018.0            </td><td>0.0                           </td><td>1.0                                       </td><td>0.0                                         </td><td>0.0                                    </td><td>0.0                            </td><td>0.0                            </td><td>0.0                                </td><td>0.0                       </td><td>1.0                                     </td><td>0.0                                  </td><td>0.0                     </td><td>0.0                                  </td><td>0.0                                  </td><td>1.0                                </td><td>0.0                                  </td><td>0.0                                 </td><td>0.0                                              </td><td>0.0                                  </td><td>0.0                           </td><td>0.0                                    </td><td>1.0                                 </td><td>0.0                            </td><td>0.0                           </td><td>0.0                 </td><td>0.0                    </td><td>0.0                            </td><td>0.0                     </td><td>1.0               </td><td>0.0                </td><td>0.0                </td><td>0.0                </td></tr>\n",
       "<tr><td>4      </td><td>4.0               </td><td>No            </td><td>1.0               </td><td>0.0                </td><td>8.0               </td><td>26.0               </td><td>1.0                   </td><td>2018.0            </td><td>1.0                           </td><td>0.0                                       </td><td>0.0                                         </td><td>0.0                                    </td><td>0.0                            </td><td>0.0                            </td><td>0.0                                </td><td>0.0                       </td><td>0.0                                     </td><td>1.0                                  </td><td>0.0                     </td><td>0.0                                  </td><td>0.0                                  </td><td>1.0                                </td><td>0.0                                  </td><td>0.0                                 </td><td>0.0                                              </td><td>0.0                                  </td><td>0.0                           </td><td>0.0                                    </td><td>0.0                                 </td><td>0.0                            </td><td>1.0                           </td><td>0.0                 </td><td>0.0                    </td><td>0.0                            </td><td>0.0                     </td><td>1.0               </td><td>0.0                </td><td>0.0                </td><td>0.0                </td></tr>\n",
       "<tr><td>5      </td><td>5.0               </td><td>No            </td><td>0.0               </td><td>0.0                </td><td>7.0               </td><td>26.0               </td><td>0.0                   </td><td>2018.0            </td><td>0.0                           </td><td>0.0                                       </td><td>0.0                                         </td><td>0.0                                    </td><td>0.0                            </td><td>1.0                            </td><td>0.0                                </td><td>0.0                       </td><td>1.0                                     </td><td>0.0                                  </td><td>0.0                     </td><td>0.0                                  </td><td>0.0                                  </td><td>1.0                                </td><td>0.0                                  </td><td>0.0                                 </td><td>0.0                                              </td><td>0.0                                  </td><td>0.0                           </td><td>0.0                                    </td><td>0.0                                 </td><td>0.0                            </td><td>1.0                           </td><td>0.0                 </td><td>0.0                    </td><td>0.0                            </td><td>0.0                     </td><td>1.0               </td><td>0.0                </td><td>0.0                </td><td>0.0                </td></tr>\n",
       "<tr><td>6      </td><td>6.0               </td><td>No            </td><td>0.0               </td><td>1.0                </td><td>7.0               </td><td>32.0               </td><td>0.0                   </td><td>2018.0            </td><td>0.0                           </td><td>0.0                                       </td><td>0.0                                         </td><td>0.0                                    </td><td>0.0                            </td><td>1.0                            </td><td>0.0                                </td><td>0.0                       </td><td>1.0                                     </td><td>0.0                                  </td><td>0.0                     </td><td>0.0                                  </td><td>0.0                                  </td><td>1.0                                </td><td>0.0                                  </td><td>0.0                                 </td><td>0.0                                              </td><td>0.0                                  </td><td>0.0                           </td><td>0.0                                    </td><td>0.0                                 </td><td>0.0                            </td><td>0.0                           </td><td>0.0                 </td><td>0.0                    </td><td>0.0                            </td><td>1.0                     </td><td>1.0               </td><td>0.0                </td><td>0.0                </td><td>0.0                </td></tr>\n",
       "<tr><td>7      </td><td>7.0               </td><td>No            </td><td>0.0               </td><td>1.0                </td><td>1.0               </td><td>42.0               </td><td>0.0                   </td><td>2018.0            </td><td>0.0                           </td><td>1.0                                       </td><td>0.0                                         </td><td>0.0                                    </td><td>0.0                            </td><td>0.0                            </td><td>0.0                                </td><td>0.0                       </td><td>1.0                                     </td><td>0.0                                  </td><td>0.0                     </td><td>0.0                                  </td><td>0.0                                  </td><td>0.0                                </td><td>0.0                                  </td><td>1.0                                 </td><td>0.0                                              </td><td>0.0                                  </td><td>0.0                           </td><td>1.0                                    </td><td>0.0                                 </td><td>0.0                            </td><td>0.0                           </td><td>0.0                 </td><td>0.0                    </td><td>0.0                            </td><td>0.0                     </td><td>1.0               </td><td>0.0                </td><td>0.0                </td><td>0.0                </td></tr>\n",
       "<tr><td>8      </td><td>8.0               </td><td>Yes           </td><td>0.0               </td><td>1.0                </td><td>3.0               </td><td>54.0               </td><td>1.0                   </td><td>2018.0            </td><td>0.0                           </td><td>1.0                                       </td><td>0.0                                         </td><td>0.0                                    </td><td>0.0                            </td><td>0.0                            </td><td>0.0                                </td><td>0.0                       </td><td>1.0                                     </td><td>0.0                                  </td><td>0.0                     </td><td>0.0                                  </td><td>0.0                                  </td><td>0.0                                </td><td>1.0                                  </td><td>0.0                                 </td><td>0.0                                              </td><td>0.0                                  </td><td>1.0                           </td><td>0.0                                    </td><td>0.0                                 </td><td>0.0                            </td><td>0.0                           </td><td>0.0                 </td><td>0.0                    </td><td>0.0                            </td><td>0.0                     </td><td>1.0               </td><td>0.0                </td><td>0.0                </td><td>0.0                </td></tr>\n",
       "<tr><td>9      </td><td>9.0               </td><td>No            </td><td>1.0               </td><td>1.0                </td><td>3.0               </td><td>76.0               </td><td>0.0                   </td><td>2018.0            </td><td>0.0                           </td><td>1.0                                       </td><td>0.0                                         </td><td>0.0                                    </td><td>0.0                            </td><td>0.0                            </td><td>1.0                                </td><td>0.0                       </td><td>0.0                                     </td><td>0.0                                  </td><td>0.0                     </td><td>1.0                                  </td><td>0.0                                  </td><td>0.0                                </td><td>0.0                                  </td><td>0.0                                 </td><td>0.0                                              </td><td>0.0                                  </td><td>0.0                           </td><td>0.0                                    </td><td>0.0                                 </td><td>0.0                            </td><td>0.0                           </td><td>0.0                 </td><td>0.0                    </td><td>1.0                            </td><td>0.0                     </td><td>1.0               </td><td>0.0                </td><td>0.0                </td><td>0.0                </td></tr>\n",
       "</tbody>\n",
       "</table>"
      ]
     },
     "metadata": {},
     "output_type": "display_data"
    }
   ],
   "source": [
    "train_data.describe()"
   ]
  },
  {
   "cell_type": "code",
   "execution_count": 109,
   "metadata": {},
   "outputs": [
    {
     "data": {
      "text/plain": [
       "['bank_account',\n",
       " 'location_type',\n",
       " 'cellphone_access',\n",
       " 'household_size',\n",
       " 'age_of_respondent',\n",
       " 'gender_of_respondent',\n",
       " 'year_',\n",
       " 'relationship_with_head_Child',\n",
       " 'relationship_with_head_Head of Household',\n",
       " 'relationship_with_head_Other non-relatives',\n",
       " 'relationship_with_head_Other relative',\n",
       " 'relationship_with_head_Parent',\n",
       " 'relationship_with_head_Spouse',\n",
       " 'marital_status_Divorced/Seperated',\n",
       " 'marital_status_Dont know',\n",
       " 'marital_status_Married/Living together',\n",
       " 'marital_status_Single/Never Married',\n",
       " 'marital_status_Widowed',\n",
       " 'education_level_No formal education',\n",
       " 'education_level_Other/Dont know/RTA',\n",
       " 'education_level_Primary education',\n",
       " 'education_level_Secondary education',\n",
       " 'education_level_Tertiary education',\n",
       " 'education_level_Vocational/Specialised training',\n",
       " 'job_type_Dont Know/Refuse to answer',\n",
       " 'job_type_Farming and Fishing',\n",
       " 'job_type_Formally employed Government',\n",
       " 'job_type_Formally employed Private',\n",
       " 'job_type_Government Dependent',\n",
       " 'job_type_Informally employed',\n",
       " 'job_type_No Income',\n",
       " 'job_type_Other Income',\n",
       " 'job_type_Remittance Dependent',\n",
       " 'job_type_Self employed',\n",
       " 'country__Kenya',\n",
       " 'country__Rwanda',\n",
       " 'country__Tanzania',\n",
       " 'country__Uganda']"
      ]
     },
     "execution_count": 109,
     "metadata": {},
     "output_type": "execute_result"
    }
   ],
   "source": [
    "#remove uniqueid\n",
    "train_data = train_data.drop('C1',axis=1)\n",
    "test_data = test_data.drop('C1',axis=1)\n",
    "train_data.columns "
   ]
  },
  {
   "cell_type": "code",
   "execution_count": 110,
   "metadata": {},
   "outputs": [],
   "source": [
    "#separate target and features \n",
    "\n",
    "y = \"bank_account\"\n",
    "x = ['location_type',\n",
    " 'cellphone_access',\n",
    " 'household_size',\n",
    " 'age_of_respondent',\n",
    " 'gender_of_respondent',\n",
    " 'year_',\n",
    " 'relationship_with_head_Child',\n",
    " 'relationship_with_head_Head of Household',\n",
    " 'relationship_with_head_Other non-relatives',\n",
    " 'relationship_with_head_Other relative',\n",
    " 'relationship_with_head_Parent',\n",
    " 'relationship_with_head_Spouse',\n",
    " 'marital_status_Divorced/Seperated',\n",
    " 'marital_status_Dont know',\n",
    " 'marital_status_Married/Living together',\n",
    " 'marital_status_Single/Never Married',\n",
    " 'marital_status_Widowed',\n",
    " 'education_level_No formal education',\n",
    " 'education_level_Other/Dont know/RTA',\n",
    " 'education_level_Primary education',\n",
    " 'education_level_Secondary education',\n",
    " 'education_level_Tertiary education',\n",
    " 'education_level_Vocational/Specialised training',\n",
    " 'job_type_Dont Know/Refuse to answer',\n",
    " 'job_type_Farming and Fishing',\n",
    " 'job_type_Formally employed Government',\n",
    " 'job_type_Formally employed Private',\n",
    " 'job_type_Government Dependent',\n",
    " 'job_type_Informally employed',\n",
    " 'job_type_No Income',\n",
    " 'job_type_Other Income',\n",
    " 'job_type_Remittance Dependent',\n",
    " 'job_type_Self employed',\n",
    " 'country__Kenya',\n",
    " 'country__Rwanda',\n",
    " 'country__Tanzania',\n",
    " 'country__Uganda']"
   ]
  },
  {
   "cell_type": "code",
   "execution_count": 111,
   "metadata": {},
   "outputs": [
    {
     "name": "stdout",
     "output_type": "stream",
     "text": [
      "AutoML progress: |████████████████████████████████████████████████████████| 100%\n"
     ]
    }
   ],
   "source": [
    "# train the automl \n",
    "aml = H2OAutoML(max_models = 10, max_runtime_secs=600, seed = 1, balance_classes=True)\n",
    "aml.train(x = x, y = y, training_frame = train_data)"
   ]
  },
  {
   "cell_type": "code",
   "execution_count": 112,
   "metadata": {},
   "outputs": [
    {
     "data": {
      "text/html": [
       "<table>\n",
       "<thead>\n",
       "<tr><th>model_id                                           </th><th style=\"text-align: right;\">     auc</th><th style=\"text-align: right;\">  logloss</th><th style=\"text-align: right;\">  mean_per_class_error</th><th style=\"text-align: right;\">    rmse</th><th style=\"text-align: right;\">      mse</th></tr>\n",
       "</thead>\n",
       "<tbody>\n",
       "<tr><td>StackedEnsemble_AllModels_AutoML_20191101_224334   </td><td style=\"text-align: right;\">0.863958</td><td style=\"text-align: right;\"> 0.291007</td><td style=\"text-align: right;\">              0.254163</td><td style=\"text-align: right;\">0.292298</td><td style=\"text-align: right;\">0.0854384</td></tr>\n",
       "<tr><td>StackedEnsemble_BestOfFamily_AutoML_20191101_224334</td><td style=\"text-align: right;\">0.863374</td><td style=\"text-align: right;\"> 0.291547</td><td style=\"text-align: right;\">              0.254197</td><td style=\"text-align: right;\">0.292685</td><td style=\"text-align: right;\">0.0856643</td></tr>\n",
       "<tr><td>GBM_1_AutoML_20191101_224334                       </td><td style=\"text-align: right;\">0.860687</td><td style=\"text-align: right;\"> 0.284   </td><td style=\"text-align: right;\">              0.262235</td><td style=\"text-align: right;\">0.291293</td><td style=\"text-align: right;\">0.0848516</td></tr>\n",
       "<tr><td>GBM_2_AutoML_20191101_224334                       </td><td style=\"text-align: right;\">0.860583</td><td style=\"text-align: right;\"> 0.284149</td><td style=\"text-align: right;\">              0.260342</td><td style=\"text-align: right;\">0.290865</td><td style=\"text-align: right;\">0.0846027</td></tr>\n",
       "<tr><td>GBM_5_AutoML_20191101_224334                       </td><td style=\"text-align: right;\">0.858485</td><td style=\"text-align: right;\"> 0.286714</td><td style=\"text-align: right;\">              0.243109</td><td style=\"text-align: right;\">0.292257</td><td style=\"text-align: right;\">0.0854142</td></tr>\n",
       "<tr><td>GBM_3_AutoML_20191101_224334                       </td><td style=\"text-align: right;\">0.85699 </td><td style=\"text-align: right;\"> 0.287612</td><td style=\"text-align: right;\">              0.262098</td><td style=\"text-align: right;\">0.292342</td><td style=\"text-align: right;\">0.0854636</td></tr>\n",
       "<tr><td>DeepLearning_1_AutoML_20191101_224334              </td><td style=\"text-align: right;\">0.852111</td><td style=\"text-align: right;\"> 0.294996</td><td style=\"text-align: right;\">              0.256919</td><td style=\"text-align: right;\">0.296356</td><td style=\"text-align: right;\">0.0878271</td></tr>\n",
       "<tr><td>GBM_4_AutoML_20191101_224334                       </td><td style=\"text-align: right;\">0.851755</td><td style=\"text-align: right;\"> 0.29498 </td><td style=\"text-align: right;\">              0.267723</td><td style=\"text-align: right;\">0.294802</td><td style=\"text-align: right;\">0.0869082</td></tr>\n",
       "<tr><td>GLM_grid_1_AutoML_20191101_224334_model_1          </td><td style=\"text-align: right;\">0.850943</td><td style=\"text-align: right;\"> 0.29107 </td><td style=\"text-align: right;\">              0.24945 </td><td style=\"text-align: right;\">0.294732</td><td style=\"text-align: right;\">0.0868671</td></tr>\n",
       "<tr><td>DRF_1_AutoML_20191101_224334                       </td><td style=\"text-align: right;\">0.82223 </td><td style=\"text-align: right;\"> 0.392821</td><td style=\"text-align: right;\">              0.283579</td><td style=\"text-align: right;\">0.316982</td><td style=\"text-align: right;\">0.100478 </td></tr>\n",
       "</tbody>\n",
       "</table>"
      ]
     },
     "metadata": {},
     "output_type": "display_data"
    },
    {
     "data": {
      "text/plain": []
     },
     "execution_count": 112,
     "metadata": {},
     "output_type": "execute_result"
    }
   ],
   "source": [
    "# show the leaderboard\n",
    "lb = aml.leaderboard\n",
    "lb.head()"
   ]
  },
  {
   "cell_type": "code",
   "execution_count": 34,
   "metadata": {},
   "outputs": [],
   "source": [
    "#remove uniqueid in the test set\n",
    "test = test_data.drop('uniqueid',axis=1)\n"
   ]
  },
  {
   "cell_type": "code",
   "execution_count": 114,
   "metadata": {},
   "outputs": [
    {
     "name": "stdout",
     "output_type": "stream",
     "text": [
      "stackedensemble prediction progress: |████████████████████████████████████| 100%\n"
     ]
    }
   ],
   "source": [
    "#perform prediction on the test test\n",
    "preds = aml.predict(test_data)"
   ]
  },
  {
   "cell_type": "code",
   "execution_count": 115,
   "metadata": {},
   "outputs": [],
   "source": [
    "# create submission DataFrame\n",
    "\n",
    "results = preds['predict']\n",
    "results = results.as_data_frame()\n",
    "results.to_csv('../data/submissions/results.csv')"
   ]
  },
  {
   "cell_type": "code",
   "execution_count": null,
   "metadata": {},
   "outputs": [],
   "source": []
  }
 ],
 "metadata": {
  "hide_input": false,
  "kernel_info": {
   "name": "python3"
  },
  "kernelspec": {
   "display_name": "Python 3",
   "language": "python",
   "name": "python3"
  },
  "language_info": {
   "codemirror_mode": {
    "name": "ipython",
    "version": 3
   },
   "file_extension": ".py",
   "mimetype": "text/x-python",
   "name": "python",
   "nbconvert_exporter": "python",
   "pygments_lexer": "ipython3",
   "version": "3.7.3"
  },
  "nteract": {
   "version": "0.15.0"
  },
  "toc": {
   "base_numbering": 1,
   "nav_menu": {},
   "number_sections": true,
   "sideBar": true,
   "skip_h1_title": false,
   "title_cell": "Table of Contents",
   "title_sidebar": "Contents",
   "toc_cell": false,
   "toc_position": {},
   "toc_section_display": true,
   "toc_window_display": false
  }
 },
 "nbformat": 4,
 "nbformat_minor": 2
}
