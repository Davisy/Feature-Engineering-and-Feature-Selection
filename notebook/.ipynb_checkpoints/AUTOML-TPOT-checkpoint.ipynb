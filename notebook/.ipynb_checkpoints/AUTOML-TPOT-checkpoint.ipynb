{
 "cells": [
  {
   "cell_type": "markdown",
   "metadata": {},
   "source": [
    "## Hackathon: Financial inclusion in Africa"
   ]
  },
  {
   "cell_type": "markdown",
   "metadata": {},
   "source": [
    "Remember to read the hackathon details in the zindi platform, [Zindi Africa](https://zindi.africa)"
   ]
  },
  {
   "cell_type": "code",
   "execution_count": 9,
   "metadata": {},
   "outputs": [
    {
     "name": "stderr",
     "output_type": "stream",
     "text": [
      "C:\\ProgramData\\Anaconda3\\lib\\importlib\\_bootstrap.py:219: RuntimeWarning: numpy.ufunc size changed, may indicate binary incompatibility. Expected 192 from C header, got 216 from PyObject\n",
      "  return f(*args, **kwds)\n",
      "C:\\ProgramData\\Anaconda3\\lib\\importlib\\_bootstrap.py:219: RuntimeWarning: numpy.ufunc size changed, may indicate binary incompatibility. Expected 192 from C header, got 216 from PyObject\n",
      "  return f(*args, **kwds)\n",
      "C:\\ProgramData\\Anaconda3\\lib\\importlib\\_bootstrap.py:219: RuntimeWarning: numpy.ufunc size changed, may indicate binary incompatibility. Expected 192 from C header, got 216 from PyObject\n",
      "  return f(*args, **kwds)\n"
     ]
    }
   ],
   "source": [
    "# import important modules \n",
    "\n",
    "import pandas as pd\n",
    "import numpy as np\n",
    "import matplotlib.pyplot as plt\n",
    "import seaborn as sns  \n",
    "import warnings\n",
    "warnings.filterwarnings('ignore')\n",
    "from tpot import TPOTClassifier\n",
    "from sklearn.model_selection import train_test_split\n",
    "\n",
    "%matplotlib inline \n"
   ]
  },
  {
   "cell_type": "code",
   "execution_count": 56,
   "metadata": {},
   "outputs": [],
   "source": [
    "#load data \n",
    "train_data = pd.read_csv('../data/Train_v2.csv')\n",
    "test_data = pd.read_csv('../data/Test_v2.csv')\n"
   ]
  },
  {
   "cell_type": "code",
   "execution_count": 65,
   "metadata": {},
   "outputs": [],
   "source": [
    "#feature engineeing\n",
    "from sklearn.preprocessing import LabelEncoder\n",
    "le = LabelEncoder()\n",
    "def featureEngineer(data,train=True):\n",
    "    if train:\n",
    "        # Convert target label to numerical Data from the train dataset      \n",
    "        data['bank_account'] = le.fit_transform(data['bank_account'])\n",
    "        \n",
    "    #data['year_'] = data['year']\n",
    "    # Convert the following numerical labels from integer to float\n",
    "    float_array = data['household_size'].values.astype(float)\n",
    "\n",
    "    # convert categorical features to numerical features\n",
    "    # categorical features to be converted by One Hot Encoding\n",
    "    data['country_'] = data['country']\n",
    "    \n",
    "    categorical = ['relationship_with_head',  'education_level', 'job_type', 'country_']\n",
    "    # One Hot Encoding conversion\n",
    "    \n",
    "    data = pd.get_dummies(data, prefix_sep='_', columns = categorical)\n",
    "\n",
    "    # Labelncoder conversion\n",
    "    data['location_type'] = le.fit_transform(data['location_type'])\n",
    "    data['cellphone_access'] = le.fit_transform(data['cellphone_access'])\n",
    "    data['gender_of_respondent'] = le.fit_transform(data['gender_of_respondent'])\n",
    "\n",
    "\n",
    "    #remove un important feature\n",
    "    featured_data = data.drop(['year', 'uniqueid', 'country', 'marital_status','age_of_respondent'], axis=1)\n",
    "\n",
    "\n",
    "    return featured_data\n",
    "\n",
    "\n",
    "train_featured = featureEngineer(train_data,train=True)\n",
    "test_featured = featureEngineer(test_data,train=False)"
   ]
  },
  {
   "cell_type": "code",
   "execution_count": 66,
   "metadata": {},
   "outputs": [],
   "source": [
    "#SPLIT INTO TRAIN AND VAL\n",
    "X = train_featured.drop('bank_account',axis=1)\n",
    "y =train_featured['bank_account']\n",
    "\n",
    "#rescale X_train and X_test\n",
    "# import MinMaxScaler\n",
    "from sklearn.preprocessing import MinMaxScaler\n",
    "from sklearn.preprocessing import StandardScaler\n",
    "\n",
    "#scaler = StandardScaler()\n",
    "scaler = MinMaxScaler(feature_range=(0, 1))\n",
    "X_train_scaled = scaler.fit_transform(X)\n",
    "X_test_scaled = scaler.fit_transform(test_featured)\n",
    "\n",
    "X_train, X_test, y_train, y_test = train_test_split(X_train_scaled,y, test_size=0.05,random_state=42)"
   ]
  },
  {
   "cell_type": "code",
   "execution_count": 67,
   "metadata": {},
   "outputs": [],
   "source": [
    "# set classifer \n",
    "pipeline_optimizer = TPOTClassifier(generations=10, population_size=20, cv=5,\n",
    "                                    random_state=42, verbosity=2,max_time_mins=10)\n"
   ]
  },
  {
   "cell_type": "code",
   "execution_count": 68,
   "metadata": {},
   "outputs": [
    {
     "data": {
      "application/vnd.jupyter.widget-view+json": {
       "model_id": "dd907b12cb1945139f25908dbef6b628",
       "version_major": 2,
       "version_minor": 0
      },
      "text/plain": [
       "HBox(children=(IntProgress(value=0, description='Optimization Progress', max=20, style=ProgressStyle(descripti…"
      ]
     },
     "metadata": {},
     "output_type": "display_data"
    },
    {
     "name": "stdout",
     "output_type": "stream",
     "text": [
      "\n",
      "13.517784183333333 minutes have elapsed. TPOT will close down.\n",
      "TPOT closed during evaluation in one generation.\n",
      "WARNING: TPOT may not provide a good pipeline if TPOT is stopped/interrupted in a early generation.\n",
      "\n",
      "\n",
      "TPOT closed prematurely. Will use the current best pipeline.\n",
      "\n",
      "Best pipeline: RandomForestClassifier(ZeroCount(input_matrix), bootstrap=True, criterion=entropy, max_features=0.4, min_samples_leaf=12, min_samples_split=3, n_estimators=100)\n"
     ]
    },
    {
     "data": {
      "text/plain": [
       "TPOTClassifier(config_dict=None, crossover_rate=0.1, cv=5,\n",
       "               disable_update_check=False, early_stop=None, generations=1000000,\n",
       "               max_eval_time_mins=5, max_time_mins=10, memory=None,\n",
       "               mutation_rate=0.9, n_jobs=1, offspring_size=None,\n",
       "               periodic_checkpoint_folder=None, population_size=20,\n",
       "               random_state=42, scoring=None, subsample=1.0, template=None,\n",
       "               use_dask=False, verbosity=2, warm_start=False)"
      ]
     },
     "execution_count": 68,
     "metadata": {},
     "output_type": "execute_result"
    }
   ],
   "source": [
    "#training \n",
    "pipeline_optimizer.fit(X_train, y_train)\n"
   ]
  },
  {
   "cell_type": "code",
   "execution_count": 69,
   "metadata": {},
   "outputs": [
    {
     "name": "stdout",
     "output_type": "stream",
     "text": [
      "0.8819031435853866\n"
     ]
    }
   ],
   "source": [
    "#find the performance\n",
    "print(pipeline_optimizer.score(X_test, y_test))\n"
   ]
  },
  {
   "cell_type": "code",
   "execution_count": 37,
   "metadata": {},
   "outputs": [],
   "source": [
    "#export the python file \n",
    "pipeline_optimizer.export('tpot_exported_pipeline.py')"
   ]
  },
  {
   "cell_type": "code",
   "execution_count": 38,
   "metadata": {},
   "outputs": [],
   "source": [
    "# Get the predicted result for the test Data\n",
    "test_data.bank_account = pipeline_optimizer.predict(X_test_scaled)"
   ]
  },
  {
   "cell_type": "code",
   "execution_count": 39,
   "metadata": {},
   "outputs": [],
   "source": [
    "# create submission DataFrame\n",
    "submission = pd.DataFrame({\"uniqueid\": test_data[\"uniqueid\"] + \" x \" + test_data[\"country\"],\n",
    "\n",
    "\"bank_account\": test_data.bank_account})"
   ]
  },
  {
   "cell_type": "code",
   "execution_count": 40,
   "metadata": {},
   "outputs": [
    {
     "data": {
      "text/html": [
       "<div>\n",
       "<style scoped>\n",
       "    .dataframe tbody tr th:only-of-type {\n",
       "        vertical-align: middle;\n",
       "    }\n",
       "\n",
       "    .dataframe tbody tr th {\n",
       "        vertical-align: top;\n",
       "    }\n",
       "\n",
       "    .dataframe thead th {\n",
       "        text-align: right;\n",
       "    }\n",
       "</style>\n",
       "<table border=\"1\" class=\"dataframe\">\n",
       "  <thead>\n",
       "    <tr style=\"text-align: right;\">\n",
       "      <th></th>\n",
       "      <th>uniqueid</th>\n",
       "      <th>bank_account</th>\n",
       "    </tr>\n",
       "  </thead>\n",
       "  <tbody>\n",
       "    <tr>\n",
       "      <th>3695</th>\n",
       "      <td>uniqueid_9830 x Rwanda</td>\n",
       "      <td>0</td>\n",
       "    </tr>\n",
       "    <tr>\n",
       "      <th>322</th>\n",
       "      <td>uniqueid_6391 x Kenya</td>\n",
       "      <td>0</td>\n",
       "    </tr>\n",
       "    <tr>\n",
       "      <th>7682</th>\n",
       "      <td>uniqueid_7957 x Tanzania</td>\n",
       "      <td>0</td>\n",
       "    </tr>\n",
       "    <tr>\n",
       "      <th>826</th>\n",
       "      <td>uniqueid_6895 x Kenya</td>\n",
       "      <td>0</td>\n",
       "    </tr>\n",
       "    <tr>\n",
       "      <th>2452</th>\n",
       "      <td>uniqueid_8521 x Kenya</td>\n",
       "      <td>0</td>\n",
       "    </tr>\n",
       "  </tbody>\n",
       "</table>\n",
       "</div>"
      ],
      "text/plain": [
       "                      uniqueid  bank_account\n",
       "3695    uniqueid_9830 x Rwanda             0\n",
       "322      uniqueid_6391 x Kenya             0\n",
       "7682  uniqueid_7957 x Tanzania             0\n",
       "826      uniqueid_6895 x Kenya             0\n",
       "2452     uniqueid_8521 x Kenya             0"
      ]
     },
     "execution_count": 40,
     "metadata": {},
     "output_type": "execute_result"
    }
   ],
   "source": [
    "#show the five sample\n",
    "submission.sample(5)"
   ]
  },
  {
   "cell_type": "code",
   "execution_count": 41,
   "metadata": {},
   "outputs": [],
   "source": [
    "# Create submission csv file\n",
    "from datetime import datetime\n",
    "now = datetime. now()\n",
    "current_time = now.strftime(\"%S\")\n",
    "\n",
    "submission.to_csv('../data/submissions/my_submission_{}.csv'.format(current_time), index = False)"
   ]
  },
  {
   "cell_type": "code",
   "execution_count": 44,
   "metadata": {},
   "outputs": [
    {
     "data": {
      "image/png": "[encoded data removed]",
      "text/plain": [
       "<Figure size 432x288 with 2 Axes>"
      ]
     },
     "metadata": {},
     "output_type": "display_data"
    }
   ],
   "source": [
    "import seaborn as sns; sns.set()\n",
    "ax = sns.heatmap(train_featured.corr())    "
   ]
  },
  {
   "cell_type": "code",
   "execution_count": 46,
   "metadata": {},
   "outputs": [
    {
     "data": {
      "text/html": [
       "<div>\n",
       "<style scoped>\n",
       "    .dataframe tbody tr th:only-of-type {\n",
       "        vertical-align: middle;\n",
       "    }\n",
       "\n",
       "    .dataframe tbody tr th {\n",
       "        vertical-align: top;\n",
       "    }\n",
       "\n",
       "    .dataframe thead th {\n",
       "        text-align: right;\n",
       "    }\n",
       "</style>\n",
       "<table border=\"1\" class=\"dataframe\">\n",
       "  <thead>\n",
       "    <tr style=\"text-align: right;\">\n",
       "      <th></th>\n",
       "      <th>bank_account</th>\n",
       "    </tr>\n",
       "  </thead>\n",
       "  <tbody>\n",
       "    <tr>\n",
       "      <th>bank_account</th>\n",
       "      <td>1.000000</td>\n",
       "    </tr>\n",
       "    <tr>\n",
       "      <th>job_type_Formally employed Private</th>\n",
       "      <td>0.249478</td>\n",
       "    </tr>\n",
       "    <tr>\n",
       "      <th>education_level_Tertiary education</th>\n",
       "      <td>0.241958</td>\n",
       "    </tr>\n",
       "    <tr>\n",
       "      <th>job_type_Formally employed Government</th>\n",
       "      <td>0.235900</td>\n",
       "    </tr>\n",
       "    <tr>\n",
       "      <th>education_level_Vocational/Specialised training</th>\n",
       "      <td>0.232187</td>\n",
       "    </tr>\n",
       "    <tr>\n",
       "      <th>cellphone_access</th>\n",
       "      <td>0.209669</td>\n",
       "    </tr>\n",
       "    <tr>\n",
       "      <th>country__Kenya</th>\n",
       "      <td>0.186242</td>\n",
       "    </tr>\n",
       "    <tr>\n",
       "      <th>education_level_Primary education</th>\n",
       "      <td>0.173702</td>\n",
       "    </tr>\n",
       "    <tr>\n",
       "      <th>education_level_No formal education</th>\n",
       "      <td>0.142661</td>\n",
       "    </tr>\n",
       "    <tr>\n",
       "      <th>education_level_Secondary education</th>\n",
       "      <td>0.123702</td>\n",
       "    </tr>\n",
       "    <tr>\n",
       "      <th>gender_of_respondent</th>\n",
       "      <td>0.117234</td>\n",
       "    </tr>\n",
       "    <tr>\n",
       "      <th>relationship_with_head_Head of Household</th>\n",
       "      <td>0.114506</td>\n",
       "    </tr>\n",
       "    <tr>\n",
       "      <th>year_</th>\n",
       "      <td>0.112318</td>\n",
       "    </tr>\n",
       "    <tr>\n",
       "      <th>job_type_Informally employed</th>\n",
       "      <td>0.098456</td>\n",
       "    </tr>\n",
       "    <tr>\n",
       "      <th>country__Tanzania</th>\n",
       "      <td>0.088345</td>\n",
       "    </tr>\n",
       "    <tr>\n",
       "      <th>location_type</th>\n",
       "      <td>0.087288</td>\n",
       "    </tr>\n",
       "    <tr>\n",
       "      <th>marital_status_Married/Living together</th>\n",
       "      <td>0.086518</td>\n",
       "    </tr>\n",
       "    <tr>\n",
       "      <th>relationship_with_head_Spouse</th>\n",
       "      <td>0.060884</td>\n",
       "    </tr>\n",
       "    <tr>\n",
       "      <th>country__Rwanda</th>\n",
       "      <td>0.057378</td>\n",
       "    </tr>\n",
       "    <tr>\n",
       "      <th>job_type_No Income</th>\n",
       "      <td>0.057121</td>\n",
       "    </tr>\n",
       "    <tr>\n",
       "      <th>marital_status_Widowed</th>\n",
       "      <td>0.052565</td>\n",
       "    </tr>\n",
       "    <tr>\n",
       "      <th>relationship_with_head_Parent</th>\n",
       "      <td>0.051197</td>\n",
       "    </tr>\n",
       "    <tr>\n",
       "      <th>relationship_with_head_Child</th>\n",
       "      <td>0.050423</td>\n",
       "    </tr>\n",
       "    <tr>\n",
       "      <th>country__Uganda</th>\n",
       "      <td>0.049200</td>\n",
       "    </tr>\n",
       "    <tr>\n",
       "      <th>job_type_Remittance Dependent</th>\n",
       "      <td>0.045701</td>\n",
       "    </tr>\n",
       "    <tr>\n",
       "      <th>marital_status_Single/Never Married</th>\n",
       "      <td>0.040771</td>\n",
       "    </tr>\n",
       "    <tr>\n",
       "      <th>job_type_Farming and Fishing</th>\n",
       "      <td>0.037986</td>\n",
       "    </tr>\n",
       "    <tr>\n",
       "      <th>household_size</th>\n",
       "      <td>0.028326</td>\n",
       "    </tr>\n",
       "    <tr>\n",
       "      <th>job_type_Other Income</th>\n",
       "      <td>0.025663</td>\n",
       "    </tr>\n",
       "    <tr>\n",
       "      <th>marital_status_Divorced/Seperated</th>\n",
       "      <td>0.025114</td>\n",
       "    </tr>\n",
       "    <tr>\n",
       "      <th>relationship_with_head_Other relative</th>\n",
       "      <td>0.020639</td>\n",
       "    </tr>\n",
       "    <tr>\n",
       "      <th>age_of_respondent</th>\n",
       "      <td>0.019429</td>\n",
       "    </tr>\n",
       "    <tr>\n",
       "      <th>education_level_Other/Dont know/RTA</th>\n",
       "      <td>0.019255</td>\n",
       "    </tr>\n",
       "    <tr>\n",
       "      <th>job_type_Government Dependent</th>\n",
       "      <td>0.018255</td>\n",
       "    </tr>\n",
       "    <tr>\n",
       "      <th>job_type_Self employed</th>\n",
       "      <td>0.015978</td>\n",
       "    </tr>\n",
       "    <tr>\n",
       "      <th>relationship_with_head_Other non-relatives</th>\n",
       "      <td>0.009218</td>\n",
       "    </tr>\n",
       "    <tr>\n",
       "      <th>job_type_Dont Know/Refuse to answer</th>\n",
       "      <td>0.006262</td>\n",
       "    </tr>\n",
       "    <tr>\n",
       "      <th>marital_status_Dont know</th>\n",
       "      <td>0.005791</td>\n",
       "    </tr>\n",
       "  </tbody>\n",
       "</table>\n",
       "</div>"
      ],
      "text/plain": [
       "                                                 bank_account\n",
       "bank_account                                         1.000000\n",
       "job_type_Formally employed Private                   0.249478\n",
       "education_level_Tertiary education                   0.241958\n",
       "job_type_Formally employed Government                0.235900\n",
       "education_level_Vocational/Specialised training      0.232187\n",
       "cellphone_access                                     0.209669\n",
       "country__Kenya                                       0.186242\n",
       "education_level_Primary education                    0.173702\n",
       "education_level_No formal education                  0.142661\n",
       "education_level_Secondary education                  0.123702\n",
       "gender_of_respondent                                 0.117234\n",
       "relationship_with_head_Head of Household             0.114506\n",
       "year_                                                0.112318\n",
       "job_type_Informally employed                         0.098456\n",
       "country__Tanzania                                    0.088345\n",
       "location_type                                        0.087288\n",
       "marital_status_Married/Living together               0.086518\n",
       "relationship_with_head_Spouse                        0.060884\n",
       "country__Rwanda                                      0.057378\n",
       "job_type_No Income                                   0.057121\n",
       "marital_status_Widowed                               0.052565\n",
       "relationship_with_head_Parent                        0.051197\n",
       "relationship_with_head_Child                         0.050423\n",
       "country__Uganda                                      0.049200\n",
       "job_type_Remittance Dependent                        0.045701\n",
       "marital_status_Single/Never Married                  0.040771\n",
       "job_type_Farming and Fishing                         0.037986\n",
       "household_size                                       0.028326\n",
       "job_type_Other Income                                0.025663\n",
       "marital_status_Divorced/Seperated                    0.025114\n",
       "relationship_with_head_Other relative                0.020639\n",
       "age_of_respondent                                    0.019429\n",
       "education_level_Other/Dont know/RTA                  0.019255\n",
       "job_type_Government Dependent                        0.018255\n",
       "job_type_Self employed                               0.015978\n",
       "relationship_with_head_Other non-relatives           0.009218\n",
       "job_type_Dont Know/Refuse to answer                  0.006262\n",
       "marital_status_Dont know                             0.005791"
      ]
     },
     "execution_count": 46,
     "metadata": {},
     "output_type": "execute_result"
    }
   ],
   "source": [
    "# SHOW CORRELATION OF DATA TO THE TARGET COLUMN \n",
    "priority = pd.DataFrame(abs(train_featured.corr()['bank_account']).sort_values(ascending = False)) \n",
    "\n",
    "priority "
   ]
  },
  {
   "cell_type": "code",
   "execution_count": null,
   "metadata": {},
   "outputs": [],
   "source": []
  }
 ],
 "metadata": {
  "hide_input": false,
  "kernel_info": {
   "name": "python3"
  },
  "kernelspec": {
   "display_name": "Python 3",
   "language": "python",
   "name": "python3"
  },
  "language_info": {
   "codemirror_mode": {
    "name": "ipython",
    "version": 3
   },
   "file_extension": ".py",
   "mimetype": "text/x-python",
   "name": "python",
   "nbconvert_exporter": "python",
   "pygments_lexer": "ipython3",
   "version": "3.7.3"
  },
  "nteract": {
   "version": "0.15.0"
  },
  "toc": {
   "base_numbering": 1,
   "nav_menu": {},
   "number_sections": true,
   "sideBar": true,
   "skip_h1_title": false,
   "title_cell": "Table of Contents",
   "title_sidebar": "Contents",
   "toc_cell": false,
   "toc_position": {},
   "toc_section_display": true,
   "toc_window_display": false
  }
 },
 "nbformat": 4,
 "nbformat_minor": 2
}
